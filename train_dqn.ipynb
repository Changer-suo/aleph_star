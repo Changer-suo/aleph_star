{
 "cells": [
  {
   "cell_type": "markdown",
   "metadata": {},
   "source": [
    "# setting up the environment"
   ]
  },
  {
   "cell_type": "code",
   "execution_count": 1,
   "metadata": {},
   "outputs": [
    {
     "data": {
      "text/plain": [
       "test (generic function with 1 method)"
      ]
     },
     "execution_count": 1,
     "metadata": {},
     "output_type": "execute_result"
    }
   ],
   "source": [
    "import Statistics: median\n",
    "using Test\n",
    "using Plots\n",
    "pyplot()\n",
    "include(\"aleph_star/aleph_star.jl\")\n",
    "include(\"env/env_lane.jl\")\n",
    "include(\"ml.jl\")\n",
    "include(\"test.jl\")"
   ]
  },
  {
   "cell_type": "code",
   "execution_count": 2,
   "metadata": {},
   "outputs": [],
   "source": [
    "include(\"train_dqn.jl\");"
   ]
  },
  {
   "cell_type": "code",
   "execution_count": 3,
   "metadata": {},
   "outputs": [
    {
     "data": {
      "image/png": "[encoded data removed]"
     },
     "execution_count": 3,
     "metadata": {},
     "output_type": "execute_result"
    }
   ],
   "source": [
    "state, env = initialize_simple_road();\n",
    "sensors = get_sensors(env,state);\n",
    "heatmap(sensors[:,:,1,1], aspect_ratio = 1.0)"
   ]
  },
  {
   "cell_type": "code",
   "execution_count": 6,
   "metadata": {},
   "outputs": [
    {
     "name": "stdout",
     "output_type": "stream",
     "text": [
      "...........................\n",
      "[V] all tests passed!\n"
     ]
    }
   ],
   "source": [
    "test()"
   ]
  },
  {
   "cell_type": "code",
   "execution_count": 7,
   "metadata": {},
   "outputs": [
    {
     "data": {
      "text/plain": [
       "1.0"
      ]
     },
     "execution_count": 7,
     "metadata": {},
     "output_type": "execute_result"
    }
   ],
   "source": [
    "dtdqn = InitializeDTDQN();\n",
    "dtdqn.epsilon0 = 1.0\n",
    "dtdqn.epsilon = dtdqn.epsilon0"
   ]
  },
  {
   "cell_type": "code",
   "execution_count": null,
   "metadata": {},
   "outputs": [
    {
     "name": "stdout",
     "output_type": "stream",
     "text": [
      "--------------------------------------------------------------- i=151\n",
      "\n",
      "---- training for 1719 iterations\n",
      ".................\n",
      "(length(dtdqn.qs), dtdqn.rewards[end], div(dtdqn._stepscum, dtdqn.max_stepc)) = (80000, 36064.59873129369, 169)\n",
      "         eps = 0.4462    gamma =0.98\n",
      "         rnk = 0.0      mvel = 1.2087    svel = 0.6794\n",
      "        vrnk = 5500.0     vmvel = 1.4221   vsvel = 0.7877\n",
      " mean_passed = 0   vpassed = 0\n",
      "--------------------------------------------------------------- i=152\n",
      "."
     ]
    }
   ],
   "source": [
    "iters = 1000\n",
    "fname = \"dtdqn5.jld2\"\n",
    "traindtdqn(dtdqn, iters, fname)"
   ]
  },
  {
   "cell_type": "code",
   "execution_count": null,
   "metadata": {},
   "outputs": [],
   "source": [
    "plotdtdqn(dtdqn)"
   ]
  },
  {
   "cell_type": "code",
   "execution_count": null,
   "metadata": {},
   "outputs": [],
   "source": [
    "histogram(dtdqn.priorities)"
   ]
  },
  {
   "cell_type": "code",
   "execution_count": 9,
   "metadata": {},
   "outputs": [],
   "source": [
    "@save fname dtdqn"
   ]
  },
  {
   "cell_type": "code",
   "execution_count": null,
   "metadata": {},
   "outputs": [],
   "source": []
  },
  {
   "cell_type": "code",
   "execution_count": null,
   "metadata": {},
   "outputs": [],
   "source": []
  }
 ],
 "metadata": {
  "kernelspec": {
   "display_name": "Julia 1.0.0",
   "language": "julia",
   "name": "julia-1.0"
  },
  "language_info": {
   "file_extension": ".jl",
   "mimetype": "application/julia",
   "name": "julia",
   "version": "1.0.1"
  }
 },
 "nbformat": 4,
 "nbformat_minor": 2
}
